{
  "nbformat": 4,
  "nbformat_minor": 0,
  "metadata": {
    "colab": {
      "provenance": []
    },
    "kernelspec": {
      "name": "python3",
      "display_name": "Python 3"
    },
    "language_info": {
      "name": "python"
    }
  },
  "cells": [
    {
      "cell_type": "markdown",
      "source": [
        "# Python Basics"
      ],
      "metadata": {
        "id": "SypWPvPc2QNZ"
      }
    },
    {
      "cell_type": "markdown",
      "source": [
        "## Theory"
      ],
      "metadata": {
        "id": "RbNJUMLs2j10"
      }
    },
    {
      "cell_type": "markdown",
      "source": [
        "1. What is Python, and why is it popular?\n",
        "     - Python is a high-level, interpreted programming language known for its simplicity, readability, and versatility. It was created by Guido van Rossum and first released in 1991. Python supports multiple programming paradigms, including procedural, object-oriented, and functional programming.\n",
        "     - Reasons for its popularity:\n",
        "         - Easy to Learn and Use: Python has a simple syntax similar to English, which makes it beginner-friendly.\n",
        "         - Versatile: It can be used for web development, data analysis, machine learning, automation, and more.\n",
        "         - Large Community: Python has a vast community that contributes to a wide range of open-source libraries and tools.\n",
        "         - Extensive Libraries: Libraries like NumPy, Pandas, Matplotlib, and TensorFlow make it powerful for data analysis and machine learning.\n",
        "         - Cross-platform: Python runs on various operating systems, including Windows, macOS, and Linux.\n",
        "         - Strong Support: It has excellent documentation and community support, making problem-solving easier.\n",
        "\n",
        "\n",
        "2. What is an interpreter in Python?\n",
        "     - An interpreter in Python is a program that reads and executes Python code line by line, converting it into machine code that the computer can understand and run. Unlike a compiler that translates the whole program at once, the Python interpreter processes one line at a time, making it easier to test and debug code.\n",
        "     -Python uses an interpreter by default, which allows it to be an interpreted language. This is why you can write and run code interactively in environments like Google Colab, Jupyter Notebook, or the Python shell.\n",
        "     - Key advantages of an interpreter in Python:\n",
        "         - Immediate execution of code.\n",
        "         - Easier debugging.\n",
        "         - Great for beginners and quick development.\n",
        "\n",
        "\n",
        "3. What are pre-defined keywords in Python?\n",
        "     - Pre-defined keywords in Python are reserved words that have special meaning in the language. These keywords are used to define the syntax and structure of Python code and cannot be used as variable names or identifiers.\n",
        "     - They are part of the Python language itself and help control the flow, declare variables, create functions, define conditions, loops, and more.\n",
        "     - Examples of pre-defined keywords:- if, else, elif, while, for, break, continue, def, return, import, from, as, class, try, except, finally, pass, True, False, None\n",
        "     - You can see the full list of keywords using the following Python code:- import keyword\n",
        "\n",
        "\n",
        "4. Can keywords be used as variable names?\n",
        "     - No, keywords in Python cannot be used as variable names because they are reserved words that have specific meaning and purpose in the language syntax. Using a keyword as a variable name will result in a syntax error.\n",
        "\n",
        "\n",
        "5. What is mutability in Python?\n",
        "     - Mutability in Python refers to an object’s ability to change its value after it has been created.\n",
        "          - Mutable objects can be changed. You can update, add, or remove elements from them without creating a new object.\n",
        "               - Examples of mutable objects include lists, dictionaries, and sets.\n",
        "          - Immutable objects cannot be changed. If you try to modify them, a new object is created instead.\n",
        "               - Examples of immutable objects include integers, floats, strings, and tuples.\n",
        "6. Why are lists mutable, but tuples are immutable?\n",
        "     - Lists are mutable because they are designed to store a collection of items that may need to be changed, updated, or reordered during the program. You can add, remove, or change elements in a list after it is created. This flexibility makes lists ideal for dynamic data.\n",
        "     - Tuples are immutable because they are meant to store fixed collections of items that should not change. Once a tuple is created, its values are locked, which provides stability, security, and faster performance. This immutability is helpful when you want to make sure the data remains constant throughout your code, such as when using keys in a dictionary.\n",
        "\n",
        "\n",
        "7. What is the difference between “==” and “is” operators in Python?\n",
        "     - The == operator checks if two variables have the same value, even if they are stored in different locations in memory.\n",
        "     - The is operator checks if two variables point to the exact same object in memory.\n",
        "8. What are logical operators in Python?\n",
        "     - Logical operators in Python are used to combine multiple conditions and return a Boolean value (True or False) based on the logic applied.\n",
        "     - There are three main logical operators in Python:\n",
        "          - and – Returns True if both conditions are true.\n",
        "          - or – Returns True if at least one condition is true.\n",
        "          - not – Reverses the result. Returns True if the condition is false, and False if the condition is true.\n",
        "\n",
        "\n",
        "9. What is type casting in Python?\n",
        "     - Type casting in Python refers to the process of converting one data type into another. It allows you to explicitly change the type of a variable to another type.\n",
        "     - There are two types of type casting in Python:\n",
        "          - Implicit Type Casting (Type Coercion): Python automatically converts one data type to another when required, without any manual intervention. This usually happens when a smaller data type (e.g., int) is converted to a larger data type (e.g., float).\n",
        "          - Explicit Type Casting: This is when you manually convert one data type into another using built-in functions like int(), float(), str(), etc.\n",
        "\n",
        "\n",
        "10. What is the difference between implicit and explicit type casting?\n",
        "     - Implicit Type Casting (Type Coercion): This happens automatically by Python when it converts a smaller data type to a larger one. The conversion is done without any explicit instruction from the programmer.\n",
        "          - Example: When you add an integer and a float, Python automatically converts the integer to a float.\n",
        "     - Explicit Type Casting: This occurs when the programmer manually converts a variable from one data type to another using built-in functions like int(), float(), str(), etc. This type of casting is necessary when you want to ensure that the variable is converted in a specific way.\n",
        "          - example: Converting a string to an integer using int(\"10\").\n",
        "\n",
        "\n",
        "11. What is the purpose of conditional statements in Python?\n",
        "     - Conditional statements in Python allow the program to make decisions based on certain conditions. They enable the program to execute specific blocks of code depending on whether a condition evaluates to True or False.\n",
        "     - The main purpose of conditional statements is to control the flow of the program by allowing it to make choices and respond to different situations. This helps in decision-making, executing different actions, and ensuring that the program behaves differently based on the input or situation.\n",
        "    - The primary conditional statements in Python are:\n",
        "          - if: Used to test a condition, and if the condition is true, it runs the corresponding block of code.\n",
        "          - elif: Stands for \"else if,\" and allows checking multiple conditions.\n",
        "          - else: Used when all the previous conditions are false, and runs a default block of code.\n",
        "\n",
        "\n",
        "\n",
        "12. How does the elif statement work?\n",
        "     - The elif statement, short for \"else if\", is used in Python to check multiple conditions in a sequence. It follows an if statement and allows you to test for more than one condition.\n",
        "          - The if statement is evaluated first. If it’s True, the code block under it is executed, and the rest of the conditions are skipped.\n",
        "          - If the if condition is False, the program checks the elif condition. If the elif condition is True, its block of code is executed.\n",
        "          - If all if and elif conditions are False, the else block (if present) is executed.\n",
        "\n",
        "\n",
        "13. What is the difference between for and while loops?\n",
        "     - Both \"for\" and \"while\" loops are used to repeat a block of code multiple times, but they work in different ways:\n",
        "          - \"for\" loop: The \"for\" loop is used when the number of iterations is known or finite. It iterates over a sequence (like a list, tuple, string, or range) and executes the block of code for each item in the sequence. It is ideal when you want to loop through a fixed set of values or a range.\n",
        "          - \"while\" loop:The while loop runs as long as a specified condition is true. It is used when you want to keep repeating a block of code until a certain condition is met. It is ideal when you don’t know the exact number of iterations in advance and want the loop to continue until a certain condition is satisfied.\n",
        "\n",
        "14. Describe a scenario where a while loop is more suitable than a for loop.\n",
        "     - A \"while\" loop is more suitable when you don’t know the exact number of iterations in advance and need the loop to continue until a certain condition is met.\n",
        "     - Imagine a situation where a program asks the user to enter a password, and the program needs to keep asking for the password until the correct one is entered. Since you don't know how many attempts the user will need to make, you can't set a fixed number of iterations like in a \"for\" loop. In this case, a \"while\" loop is ideal because it will keep running as long as the condition (correct password) is not met."
      ],
      "metadata": {
        "id": "b0r7Kgsh26Z6"
      }
    },
    {
      "cell_type": "code",
      "source": [
        "correct_password = \"mySecret123\"\n",
        "user_password = \"\"\n",
        "\n",
        "while user_password != correct_password:\n",
        "    user_password = input(\"Enter your password: \")\n",
        "    if user_password != correct_password:\n",
        "        print(\"Incorrect password, please try again.\")"
      ],
      "metadata": {
        "colab": {
          "base_uri": "https://localhost:8080/"
        },
        "id": "tvU-uSWT_Vv-",
        "outputId": "48ef8342-8c20-4f31-8db9-45cbfa55a310"
      },
      "execution_count": 1,
      "outputs": [
        {
          "name": "stdout",
          "output_type": "stream",
          "text": [
            "Enter your password: mySecret123\n"
          ]
        }
      ]
    },
    {
      "cell_type": "markdown",
      "source": [
        "## Practical"
      ],
      "metadata": {
        "id": "Lx1w6cyN2xa1"
      }
    },
    {
      "cell_type": "code",
      "execution_count": null,
      "metadata": {
        "id": "RiwjoK3Z2Me-"
      },
      "outputs": [],
      "source": [
        "#1. Write a Python program to print \"Hello, World!y"
      ]
    },
    {
      "cell_type": "code",
      "source": [
        "print(\"Hello, World!\")"
      ],
      "metadata": {
        "colab": {
          "base_uri": "https://localhost:8080/"
        },
        "id": "uHvw2Art_0n6",
        "outputId": "a230daf5-8faa-41ca-b157-8de73f0b0d1d"
      },
      "execution_count": 2,
      "outputs": [
        {
          "output_type": "stream",
          "name": "stdout",
          "text": [
            "Hello, World!\n"
          ]
        }
      ]
    },
    {
      "cell_type": "code",
      "source": [
        "#2.  Write a Python program that displays your name and age"
      ],
      "metadata": {
        "id": "tGGdZ_DPADxe"
      },
      "execution_count": null,
      "outputs": []
    },
    {
      "cell_type": "code",
      "source": [
        "# Define the variables\n",
        "name = \"Harshal Dahivalikar\"\n",
        "age = 25  # Replace with your actual age\n",
        "\n",
        "# Display the name and age\n",
        "print(\"Name:\", name)\n",
        "print(\"Age:\", age)"
      ],
      "metadata": {
        "colab": {
          "base_uri": "https://localhost:8080/"
        },
        "id": "5450E3VRAMhi",
        "outputId": "9fffe78f-dc04-4f89-8313-5cb566984cf5"
      },
      "execution_count": 3,
      "outputs": [
        {
          "output_type": "stream",
          "name": "stdout",
          "text": [
            "Name: Harshal Dahivalikar\n",
            "Age: 25\n"
          ]
        }
      ]
    },
    {
      "cell_type": "code",
      "source": [
        "#3. Write code to print all the pre-defined keywords in Python using the keyword library8"
      ],
      "metadata": {
        "id": "HlUPx09eAaX3"
      },
      "execution_count": null,
      "outputs": []
    },
    {
      "cell_type": "code",
      "source": [
        "import keyword\n",
        "\n",
        "# Print all the pre-defined keywords in Python\n",
        "print(\"Python Keywords:\", keyword.kwlist)"
      ],
      "metadata": {
        "colab": {
          "base_uri": "https://localhost:8080/"
        },
        "id": "OSCieUvuAkyL",
        "outputId": "d147b91c-6710-4fe1-8956-bc6a3dc9f808"
      },
      "execution_count": 7,
      "outputs": [
        {
          "output_type": "stream",
          "name": "stdout",
          "text": [
            "Python Keywords: ['False', 'None', 'True', 'and', 'as', 'assert', 'async', 'await', 'break', 'class', 'continue', 'def', 'del', 'elif', 'else', 'except', 'finally', 'for', 'from', 'global', 'if', 'import', 'in', 'is', 'lambda', 'nonlocal', 'not', 'or', 'pass', 'raise', 'return', 'try', 'while', 'with', 'yield']\n"
          ]
        }
      ]
    },
    {
      "cell_type": "code",
      "source": [
        "#4. Write a program that checks if a given word is a Python keyword."
      ],
      "metadata": {
        "id": "l-3pU3LwAp1t"
      },
      "execution_count": null,
      "outputs": []
    },
    {
      "cell_type": "code",
      "source": [
        "import keyword\n",
        "\n",
        "# Input a word from the user\n",
        "word = input(\"Enter a word: \")\n",
        "\n",
        "# Check if the word is a Python keyword\n",
        "if keyword.iskeyword(word):\n",
        "    print(f'\"{word}\" is a Python keyword.')\n",
        "else:\n",
        "    print(f'\"{word}\" is not a Python keyword.')"
      ],
      "metadata": {
        "colab": {
          "base_uri": "https://localhost:8080/"
        },
        "id": "X9dUzCIIBKD4",
        "outputId": "f07c6e5f-575c-4609-ca1c-48cf2f0ad8f1"
      },
      "execution_count": 8,
      "outputs": [
        {
          "output_type": "stream",
          "name": "stdout",
          "text": [
            "Enter a word: True\n",
            "\"True\" is a Python keyword.\n"
          ]
        }
      ]
    },
    {
      "cell_type": "code",
      "source": [
        "#5.  Create a list and tuple in Python, and demonstrate how attempting to change an element works differently for each."
      ],
      "metadata": {
        "id": "AkR1zeZABd_q"
      },
      "execution_count": null,
      "outputs": []
    },
    {
      "cell_type": "code",
      "source": [
        "# Creating a list and a tuple\n",
        "my_list = [1, 2, 3, 4]\n",
        "my_tuple = (1, 2, 3, 4)\n",
        "\n",
        "# Attempting to change an element in the list\n",
        "print(\"Original List:\", my_list)\n",
        "my_list[2] = 10  # Changing the element at index 2\n",
        "print(\"Modified List:\", my_list)\n",
        "\n",
        "# Attempting to change an element in the tuple\n",
        "print(\"Original Tuple:\", my_tuple)\n",
        "try:\n",
        "    my_tuple[2] = 10  # Trying to change the element at index 2\n",
        "except TypeError as e:\n",
        "    print(\"Error while modifying Tuple:\", e)"
      ],
      "metadata": {
        "colab": {
          "base_uri": "https://localhost:8080/"
        },
        "id": "bgiVEAxdBnma",
        "outputId": "cf5fa2e6-52bc-4f53-cdf6-0e987eb90876"
      },
      "execution_count": 9,
      "outputs": [
        {
          "output_type": "stream",
          "name": "stdout",
          "text": [
            "Original List: [1, 2, 3, 4]\n",
            "Modified List: [1, 2, 10, 4]\n",
            "Original Tuple: (1, 2, 3, 4)\n",
            "Error while modifying Tuple: 'tuple' object does not support item assignment\n"
          ]
        }
      ]
    },
    {
      "cell_type": "code",
      "source": [
        "#6. Write a function to demonstrate the behavior of mutable and immutable arguments."
      ],
      "metadata": {
        "id": "6vc48GS5BvvO"
      },
      "execution_count": 11,
      "outputs": []
    },
    {
      "cell_type": "code",
      "source": [
        "def modify_arguments(mutable_arg, immutable_arg):\n",
        "    # Modifying the mutable argument (list)\n",
        "    print(\"Before modifying mutable argument:\", mutable_arg)\n",
        "    mutable_arg.append(10)  # Adding an element to the list\n",
        "    print(\"After modifying mutable argument:\", mutable_arg)\n",
        "\n",
        "    # Modifying the immutable argument (integer)\n",
        "    print(\"Before modifying immutable argument:\", immutable_arg)\n",
        "    immutable_arg += 5  # This creates a new integer, doesn't modify the original\n",
        "    print(\"After modifying immutable argument:\", immutable_arg)\n",
        "\n",
        "# Example usage\n",
        "my_list = [1, 2, 3]\n",
        "my_number = 5\n",
        "\n",
        "modify_arguments(my_list, my_number)\n",
        "\n",
        "# After the function call to demonstrate the original values\n",
        "print(\"Original list after function call:\", my_list)\n",
        "print(\"Original number after function call:\", my_number)"
      ],
      "metadata": {
        "colab": {
          "base_uri": "https://localhost:8080/"
        },
        "id": "cHT-MKQTB64z",
        "outputId": "7c389911-21fe-4b2b-a257-df014a48e8af"
      },
      "execution_count": 10,
      "outputs": [
        {
          "output_type": "stream",
          "name": "stdout",
          "text": [
            "Before modifying mutable argument: [1, 2, 3]\n",
            "After modifying mutable argument: [1, 2, 3, 10]\n",
            "Before modifying immutable argument: 5\n",
            "After modifying immutable argument: 10\n",
            "Original list after function call: [1, 2, 3, 10]\n",
            "Original number after function call: 5\n"
          ]
        }
      ]
    },
    {
      "cell_type": "code",
      "source": [
        "#7. Write a program that performs basic arithmetic operations on two user-input numbers."
      ],
      "metadata": {
        "id": "chiMr1y5CTMA"
      },
      "execution_count": null,
      "outputs": []
    },
    {
      "cell_type": "code",
      "source": [
        "# Function to perform basic arithmetic operations\n",
        "def basic_arithmetic_operations(num1, num2):\n",
        "    print(f\"Addition: {num1} + {num2} = {num1 + num2}\")\n",
        "    print(f\"Subtraction: {num1} - {num2} = {num1 - num2}\")\n",
        "    print(f\"Multiplication: {num1} * {num2} = {num1 * num2}\")\n",
        "\n",
        "    # Check if division is possible (to avoid division by zero)\n",
        "    if num2 != 0:\n",
        "        print(f\"Division: {num1} / {num2} = {num1 / num2}\")\n",
        "    else:\n",
        "        print(\"Division: Cannot divide by zero\")\n",
        "\n",
        "# Taking user input\n",
        "try:\n",
        "    num1 = float(input(\"Enter the first number: \"))\n",
        "    num2 = float(input(\"Enter the second number: \"))\n",
        "\n",
        "    # Performing arithmetic operations\n",
        "    basic_arithmetic_operations(num1, num2)\n",
        "\n",
        "except ValueError:\n",
        "    print(\"Invalid input! Please enter valid numbers.\")\n"
      ],
      "metadata": {
        "colab": {
          "base_uri": "https://localhost:8080/"
        },
        "id": "jvqg2nmECq5m",
        "outputId": "3e4e830c-bc67-4ea9-b9ab-d2e2eac8a5fe"
      },
      "execution_count": 15,
      "outputs": [
        {
          "output_type": "stream",
          "name": "stdout",
          "text": [
            "Enter the first number: 7\n",
            "Enter the second number: 5\n",
            "Addition: 7.0 + 5.0 = 12.0\n",
            "Subtraction: 7.0 - 5.0 = 2.0\n",
            "Multiplication: 7.0 * 5.0 = 35.0\n",
            "Division: 7.0 / 5.0 = 1.4\n"
          ]
        }
      ]
    },
    {
      "cell_type": "code",
      "source": [
        "#8. Write a program to demonstrate the use of logical operators."
      ],
      "metadata": {
        "id": "1Jl0qC8MCwtm"
      },
      "execution_count": 17,
      "outputs": []
    },
    {
      "cell_type": "code",
      "source": [
        "# Function to demonstrate logical operators\n",
        "def logical_operators_demo(a, b):\n",
        "    # AND operator: Both conditions must be True\n",
        "    print(f\"{a} > 5 and {b} < 10: {a > 5 and b < 10}\")\n",
        "\n",
        "    # OR operator: At least one condition must be True\n",
        "    print(f\"{a} > 5 or {b} < 10: {a > 5 or b < 10}\")\n",
        "\n",
        "    # NOT operator: Reverses the result of the condition\n",
        "    print(f\"not ({a} > 5): {not (a > 5)}\")\n",
        "    print(f\"not ({b} < 10): {not (b < 10)}\")\n",
        "\n",
        "# Taking user input\n",
        "try:\n",
        "    a = int(input(\"Enter the first number: \"))\n",
        "    b = int(input(\"Enter the second number: \"))\n",
        "\n",
        "    # Demonstrating logical operators\n",
        "    logical_operators_demo(a, b)\n",
        "\n",
        "except ValueError:\n",
        "    print(\"Invalid input! Please enter valid integers.\")"
      ],
      "metadata": {
        "colab": {
          "base_uri": "https://localhost:8080/"
        },
        "id": "pBRbjs9EDFS-",
        "outputId": "5c57c37d-8157-4ca3-b3d0-037474a84eb4"
      },
      "execution_count": 18,
      "outputs": [
        {
          "output_type": "stream",
          "name": "stdout",
          "text": [
            "Enter the first number: 9\n",
            "Enter the second number: 2\n",
            "9 > 5 and 2 < 10: True\n",
            "9 > 5 or 2 < 10: True\n",
            "not (9 > 5): False\n",
            "not (2 < 10): False\n"
          ]
        }
      ]
    },
    {
      "cell_type": "code",
      "source": [
        "#9. Write a Python program to convert user input from string to integer, float, and boolean types"
      ],
      "metadata": {
        "id": "RVyr_XaZDGXe"
      },
      "execution_count": 19,
      "outputs": []
    },
    {
      "cell_type": "code",
      "source": [
        "# Function to convert user input to different types\n",
        "def convert_input(input_str):\n",
        "    try:\n",
        "        # Convert to integer\n",
        "        int_value = int(input_str)\n",
        "        print(f\"Converted to integer: {int_value}\")\n",
        "    except ValueError:\n",
        "        print(\"Cannot convert to integer\")\n",
        "\n",
        "    try:\n",
        "        # Convert to float\n",
        "        float_value = float(input_str)\n",
        "        print(f\"Converted to float: {float_value}\")\n",
        "    except ValueError:\n",
        "        print(\"Cannot convert to float\")\n",
        "\n",
        "    # Convert to boolean\n",
        "    # Empty string or \"False\" becomes False, any non-empty string becomes True\n",
        "    if input_str.lower() in ['true', '1']:\n",
        "        bool_value = True\n",
        "    elif input_str.lower() in ['false', '0', '']:\n",
        "        bool_value = False\n",
        "    else:\n",
        "        bool_value = True  # Default to True for non-empty, non-\"false\"/\"0\" strings\n",
        "\n",
        "    print(f\"Converted to boolean: {bool_value}\")\n",
        "\n",
        "# Taking user input\n",
        "input_str = input(\"Enter a value: \")\n",
        "\n",
        "# Convert and display\n",
        "convert_input(input_str)"
      ],
      "metadata": {
        "colab": {
          "base_uri": "https://localhost:8080/"
        },
        "id": "TDYrk4UuDVbm",
        "outputId": "3cca110f-f0ea-49c5-c066-8bca3413252b"
      },
      "execution_count": 20,
      "outputs": [
        {
          "output_type": "stream",
          "name": "stdout",
          "text": [
            "Enter a value: 70\n",
            "Converted to integer: 70\n",
            "Converted to float: 70.0\n",
            "Converted to boolean: True\n"
          ]
        }
      ]
    },
    {
      "cell_type": "code",
      "source": [
        "#10. Write code to demonstrate type casting with list elements."
      ],
      "metadata": {
        "id": "sJVWOrVgDxtW"
      },
      "execution_count": null,
      "outputs": []
    },
    {
      "cell_type": "code",
      "source": [
        "# Function to demonstrate type casting with list elements\n",
        "def type_cast_list_elements(input_list):\n",
        "    # Converting all elements in the list to string\n",
        "    string_list = [str(item) for item in input_list]\n",
        "    print(f\"List converted to strings: {string_list}\")\n",
        "\n",
        "    # Converting all elements in the list to integer (if possible)\n",
        "    int_list = []\n",
        "    for item in input_list:\n",
        "        try:\n",
        "            int_list.append(int(item))\n",
        "        except ValueError:\n",
        "            int_list.append(None)  # In case of invalid conversion\n",
        "    print(f\"List converted to integers: {int_list}\")\n",
        "\n",
        "    # Converting all elements in the list to float (if possible)\n",
        "    float_list = []\n",
        "    for item in input_list:\n",
        "        try:\n",
        "            float_list.append(float(item))\n",
        "        except ValueError:\n",
        "            float_list.append(None)  # In case of invalid conversion\n",
        "    print(f\"List converted to floats: {float_list}\")\n",
        "\n",
        "    # Converting all elements in the list to boolean\n",
        "    bool_list = [bool(item) for item in input_list]\n",
        "    print(f\"List converted to booleans: {bool_list}\")\n",
        "\n",
        "# Example usage\n",
        "input_list = [123, '456', 7.89, 'hello', '', True, False]\n",
        "type_cast_list_elements(input_list)"
      ],
      "metadata": {
        "colab": {
          "base_uri": "https://localhost:8080/"
        },
        "id": "k48oSP-YDc2H",
        "outputId": "d6511371-146f-4ea9-9e50-578ce887e646"
      },
      "execution_count": 22,
      "outputs": [
        {
          "output_type": "stream",
          "name": "stdout",
          "text": [
            "List converted to strings: ['123', '456', '7.89', 'hello', '', 'True', 'False']\n",
            "List converted to integers: [123, 456, 7, None, None, 1, 0]\n",
            "List converted to floats: [123.0, 456.0, 7.89, None, None, 1.0, 0.0]\n",
            "List converted to booleans: [True, True, True, True, False, True, False]\n"
          ]
        }
      ]
    },
    {
      "cell_type": "code",
      "source": [
        "#11. Write a program that checks if a number is positive, negative, or zero"
      ],
      "metadata": {
        "id": "oGZxrbujD9gW"
      },
      "execution_count": 28,
      "outputs": []
    },
    {
      "cell_type": "code",
      "source": [
        "# Function to check if the number is positive, negative, or zero\n",
        "def check_number(num):\n",
        "    if num > 0:\n",
        "        print(\"The number is positive.\")\n",
        "    elif num < 0:\n",
        "        print(\"The number is negative.\")\n",
        "    else:\n",
        "        print(\"The number is zero.\")\n",
        "\n",
        "# Taking user input\n",
        "try:\n",
        "    number = float(input(\"Enter a number: \"))  # Using float to handle decimal inputs\n",
        "    check_number(number)\n",
        "except ValueError:\n",
        "    print(\"Invalid input! Please enter a valid number.\")"
      ],
      "metadata": {
        "colab": {
          "base_uri": "https://localhost:8080/"
        },
        "id": "IUP0OwKIEJHA",
        "outputId": "8259b687-9db7-4a61-8bd9-d7d0f5c6e8a0"
      },
      "execution_count": 33,
      "outputs": [
        {
          "output_type": "stream",
          "name": "stdout",
          "text": [
            "Enter a number: 10\n",
            "The number is positive.\n"
          ]
        }
      ]
    },
    {
      "cell_type": "code",
      "source": [
        "#12. Write a for loop to print numbers from 1 to 10"
      ],
      "metadata": {
        "id": "WnPH-mJGD_Um"
      },
      "execution_count": 24,
      "outputs": []
    },
    {
      "cell_type": "code",
      "source": [
        "# Using a for loop to print numbers from 1 to 10\n",
        "for num in range(1, 11):\n",
        "    print(num)"
      ],
      "metadata": {
        "colab": {
          "base_uri": "https://localhost:8080/"
        },
        "id": "y5L0KPW1ENvR",
        "outputId": "ecaae6eb-506a-4ae6-e8c4-edd32f27556f"
      },
      "execution_count": 32,
      "outputs": [
        {
          "output_type": "stream",
          "name": "stdout",
          "text": [
            "1\n",
            "2\n",
            "3\n",
            "4\n",
            "5\n",
            "6\n",
            "7\n",
            "8\n",
            "9\n",
            "10\n"
          ]
        }
      ]
    },
    {
      "cell_type": "code",
      "source": [
        "#13. Write a Python program to find the sum of all even numbers between 1 and 50."
      ],
      "metadata": {
        "id": "hPmJDjIPEBCO"
      },
      "execution_count": 25,
      "outputs": []
    },
    {
      "cell_type": "code",
      "source": [
        "# Function to calculate the sum of even numbers between 1 and 50\n",
        "def sum_of_even_numbers():\n",
        "    total_sum = 0\n",
        "    num = 2  # Start from the first even number\n",
        "\n",
        "    while num <= 50:\n",
        "        total_sum += num\n",
        "        num += 2  # Increment by 2 to get the next even number\n",
        "\n",
        "    return total_sum\n",
        "\n",
        "# Calculating the sum of even numbers\n",
        "result = sum_of_even_numbers()\n",
        "print(f\"The sum of all even numbers between 1 and 50 is: {result}\")"
      ],
      "metadata": {
        "colab": {
          "base_uri": "https://localhost:8080/"
        },
        "id": "CNWIvyASEJKT",
        "outputId": "241752b3-89be-4cf7-804d-9fff86cc0de0"
      },
      "execution_count": 31,
      "outputs": [
        {
          "output_type": "stream",
          "name": "stdout",
          "text": [
            "The sum of all even numbers between 1 and 50 is: 650\n"
          ]
        }
      ]
    },
    {
      "cell_type": "code",
      "source": [
        "#14. Write a program to reverse a string using a while loop."
      ],
      "metadata": {
        "id": "Js6zcBJZEC_e"
      },
      "execution_count": 26,
      "outputs": []
    },
    {
      "cell_type": "code",
      "source": [
        "# Function to reverse a string using a while loop\n",
        "def reverse_string(s):\n",
        "    reversed_str = ''\n",
        "    index = len(s) - 1  # Start with the last character of the string\n",
        "\n",
        "    while index >= 0:\n",
        "        reversed_str += s[index]\n",
        "        index -= 1\n",
        "\n",
        "    return reversed_str\n",
        "\n",
        "# Taking user input\n",
        "user_input = input(\"Enter a string to reverse: \")\n",
        "\n",
        "# Reversing the string and displaying the result\n",
        "reversed_string = reverse_string(user_input)\n",
        "print(f\"The reversed string is: {reversed_string}\")"
      ],
      "metadata": {
        "colab": {
          "base_uri": "https://localhost:8080/"
        },
        "id": "LrgKPx3pEJi_",
        "outputId": "db2bc4c8-489c-4300-e7ef-15e232fa78fb"
      },
      "execution_count": 30,
      "outputs": [
        {
          "output_type": "stream",
          "name": "stdout",
          "text": [
            "Enter a string to reverse: pwskills\n",
            "The reversed string is: sllikswp\n"
          ]
        }
      ]
    },
    {
      "cell_type": "code",
      "source": [
        "#15.  Write a Python program to calculate the factorial of a number provided by the user using a while loop."
      ],
      "metadata": {
        "id": "R9qoSYArEFPW"
      },
      "execution_count": 27,
      "outputs": []
    },
    {
      "cell_type": "code",
      "source": [
        "# Function to calculate factorial using a while loop\n",
        "def calculate_factorial(n):\n",
        "    factorial = 1\n",
        "    while n > 1:\n",
        "        factorial *= n\n",
        "        n -= 1\n",
        "    return factorial\n",
        "\n",
        "# Taking user input\n",
        "try:\n",
        "    num = int(input(\"Enter a number to calculate its factorial: \"))\n",
        "\n",
        "    if num < 0:\n",
        "        print(\"Factorial is not defined for negative numbers.\")\n",
        "    else:\n",
        "        result = calculate_factorial(num)\n",
        "        print(f\"The factorial of {num} is {result}\")\n",
        "except ValueError:\n",
        "    print(\"Invalid input! Please enter a valid integer.\")"
      ],
      "metadata": {
        "colab": {
          "base_uri": "https://localhost:8080/"
        },
        "id": "GYvfHUDHEGu-",
        "outputId": "4d674720-c270-4fb6-ded0-050d498b077b"
      },
      "execution_count": 29,
      "outputs": [
        {
          "output_type": "stream",
          "name": "stdout",
          "text": [
            "Enter a number to calculate its factorial: 5\n",
            "The factorial of 5 is 120\n"
          ]
        }
      ]
    }
  ]
}